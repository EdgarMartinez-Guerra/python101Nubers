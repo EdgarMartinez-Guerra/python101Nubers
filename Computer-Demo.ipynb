{
 "metadata": {
  "language_info": {
   "codemirror_mode": {
    "name": "ipython",
    "version": 3
   },
   "file_extension": ".py",
   "mimetype": "text/x-python",
   "name": "python",
   "nbconvert_exporter": "python",
   "pygments_lexer": "ipython3",
   "version": "3.8.3-final"
  },
  "orig_nbformat": 2,
  "kernelspec": {
   "name": "Python 3.8.3 64-bit",
   "display_name": "Python 3.8.3 64-bit",
   "metadata": {
    "interpreter": {
     "hash": "d9af2e32a5ad6e5c5f98229481d7f4ca3d60c1f6ad52fd9ba4da285d14500705"
    }
   }
  }
 },
 "nbformat": 4,
 "nbformat_minor": 2,
 "cells": [
  {
   "source": [
    "# Describiendo Imagenes con el Azure Computer Vision\n",
    "\n",
    "## Instalamos el SDK de Computer Vision"
   ],
   "cell_type": "markdown",
   "metadata": {}
  },
  {
   "cell_type": "code",
   "execution_count": 1,
   "metadata": {},
   "outputs": [
    {
     "output_type": "stream",
     "name": "stdout",
     "text": [
      "Defaulting to user installation because normal site-packages is not writeable\n",
      "Collecting azure-cognitiveservices-vision-computervision\n",
      "  Downloading azure_cognitiveservices_vision_computervision-0.7.0-py2.py3-none-any.whl (35 kB)\n",
      "Collecting azure-common~=1.1\n",
      "  Downloading azure_common-1.1.25-py2.py3-none-any.whl (12 kB)\n",
      "Collecting msrest>=0.5.0\n",
      "  Downloading msrest-0.6.19-py2.py3-none-any.whl (84 kB)\n",
      "\u001b[K     |████████████████████████████████| 84 kB 1.7 MB/s \n",
      "\u001b[?25hCollecting certifi>=2017.4.17\n",
      "  Downloading certifi-2020.6.20-py2.py3-none-any.whl (156 kB)\n",
      "\u001b[K     |████████████████████████████████| 156 kB 27.3 MB/s \n",
      "\u001b[?25hCollecting isodate>=0.6.0\n",
      "  Downloading isodate-0.6.0-py2.py3-none-any.whl (45 kB)\n",
      "\u001b[K     |████████████████████████████████| 45 kB 1.3 MB/s \n",
      "\u001b[?25hCollecting requests~=2.16\n",
      "  Downloading requests-2.24.0-py2.py3-none-any.whl (61 kB)\n",
      "\u001b[K     |████████████████████████████████| 61 kB 170 kB/s \n",
      "\u001b[?25hCollecting requests-oauthlib>=0.5.0\n",
      "  Downloading requests_oauthlib-1.3.0-py2.py3-none-any.whl (23 kB)\n",
      "Requirement already satisfied, skipping upgrade: six in /home/codespace/.local/lib/python3.8/site-packages (from isodate>=0.6.0->msrest>=0.5.0->azure-cognitiveservices-vision-computervision) (1.15.0)\n",
      "Collecting chardet<4,>=3.0.2\n",
      "  Downloading chardet-3.0.4-py2.py3-none-any.whl (133 kB)\n",
      "\u001b[K     |████████████████████████████████| 133 kB 36.9 MB/s \n",
      "\u001b[?25hCollecting idna<3,>=2.5\n",
      "  Downloading idna-2.10-py2.py3-none-any.whl (58 kB)\n",
      "\u001b[K     |████████████████████████████████| 58 kB 4.0 MB/s \n",
      "\u001b[?25hCollecting urllib3!=1.25.0,!=1.25.1,<1.26,>=1.21.1\n",
      "  Downloading urllib3-1.25.10-py2.py3-none-any.whl (127 kB)\n",
      "\u001b[K     |████████████████████████████████| 127 kB 28.6 MB/s \n",
      "\u001b[?25hCollecting oauthlib>=3.0.0\n",
      "  Downloading oauthlib-3.1.0-py2.py3-none-any.whl (147 kB)\n",
      "\u001b[K     |████████████████████████████████| 147 kB 37.0 MB/s \n",
      "\u001b[?25hInstalling collected packages: azure-common, certifi, isodate, chardet, idna, urllib3, requests, oauthlib, requests-oauthlib, msrest, azure-cognitiveservices-vision-computervision\n",
      "Successfully installed azure-cognitiveservices-vision-computervision-0.7.0 azure-common-1.1.25 certifi-2020.6.20 chardet-3.0.4 idna-2.10 isodate-0.6.0 msrest-0.6.19 oauthlib-3.1.0 requests-2.24.0 requests-oauthlib-1.3.0 urllib3-1.25.10\n",
      "Note: you may need to restart the kernel to use updated packages.\n"
     ]
    }
   ],
   "source": [
    "pip install --upgrade azure-cognitiveservices-vision-computervision"
   ]
  },
  {
   "source": [
    "## Importamos las bibliotecas"
   ],
   "cell_type": "markdown",
   "metadata": {}
  },
  {
   "cell_type": "code",
   "execution_count": 6,
   "metadata": {},
   "outputs": [],
   "source": [
    "from azure.cognitiveservices.vision.computervision import ComputerVisionClient\n",
    "from msrest.authentication import CognitiveServicesCredentials"
   ]
  },
  {
   "cell_type": "code",
   "execution_count": null,
   "metadata": {},
   "outputs": [],
   "source": [
    "## Declaramos nuestras credenciales"
   ]
  },
  {
   "cell_type": "code",
   "execution_count": 8,
   "metadata": {},
   "outputs": [],
   "source": [
    "key = 'TUCLAVE'\n",
    "endpoint = 'https://TUENDPOINT.cognitiveservices.azure.com/'"
   ]
  },
  {
   "source": [
    "## Autenticamos el cliente con nuestras credenciales"
   ],
   "cell_type": "markdown",
   "metadata": {}
  },
  {
   "cell_type": "code",
   "execution_count": 9,
   "metadata": {},
   "outputs": [],
   "source": [
    "client = ComputerVisionClient(endpoint, CognitiveServicesCredentials(key))"
   ]
  },
  {
   "source": [
    "## Definimos la imagen que queremos utilizar \n",
    "\n",
    "En nuestro caso, analizaremos la del Big Ben"
   ],
   "cell_type": "markdown",
   "metadata": {}
  },
  {
   "cell_type": "code",
   "execution_count": 7,
   "metadata": {},
   "outputs": [],
   "source": [
    "big_ben= 'https://raw.githubusercontent.com/FernandaOchoa/InnovaccionNube/main/ComputerVision/images/big_ben.jpg?token=ACFTV5MIJKMJDOWYOTTQYHK7REIGU'"
   ]
  },
  {
   "source": [
    "## Creamos un objeto que contenga la descripción de nuestra imagen\n"
   ],
   "cell_type": "markdown",
   "metadata": {}
  },
  {
   "cell_type": "code",
   "execution_count": 10,
   "metadata": {},
   "outputs": [],
   "source": [
    "describe = client.describe_image(big_ben)"
   ]
  },
  {
   "source": [
    "## Con ayuda de la función dir() mostramos la lista de todos los atributos y métodos que contiene nuestro objeto "
   ],
   "cell_type": "markdown",
   "metadata": {}
  },
  {
   "cell_type": "code",
   "execution_count": 11,
   "metadata": {},
   "outputs": [
    {
     "output_type": "execute_result",
     "data": {
      "text/plain": [
       "['__class__',\n",
       " '__delattr__',\n",
       " '__dict__',\n",
       " '__dir__',\n",
       " '__doc__',\n",
       " '__eq__',\n",
       " '__format__',\n",
       " '__ge__',\n",
       " '__getattribute__',\n",
       " '__gt__',\n",
       " '__hash__',\n",
       " '__init__',\n",
       " '__init_subclass__',\n",
       " '__le__',\n",
       " '__lt__',\n",
       " '__module__',\n",
       " '__ne__',\n",
       " '__new__',\n",
       " '__reduce__',\n",
       " '__reduce_ex__',\n",
       " '__repr__',\n",
       " '__setattr__',\n",
       " '__sizeof__',\n",
       " '__str__',\n",
       " '__subclasshook__',\n",
       " '__weakref__',\n",
       " '_attribute_map',\n",
       " '_classify',\n",
       " '_create_xml_node',\n",
       " '_flatten_subtype',\n",
       " '_get_rest_key_parts',\n",
       " '_infer_class_models',\n",
       " '_subtype_map',\n",
       " '_validation',\n",
       " 'additional_properties',\n",
       " 'as_dict',\n",
       " 'captions',\n",
       " 'deserialize',\n",
       " 'enable_additional_properties_sending',\n",
       " 'from_dict',\n",
       " 'is_xml_model',\n",
       " 'metadata',\n",
       " 'request_id',\n",
       " 'serialize',\n",
       " 'tags',\n",
       " 'validate']"
      ]
     },
     "metadata": {},
     "execution_count": 11
    }
   ],
   "source": [
    "dir(describe)"
   ]
  },
  {
   "source": [
    "## Accedemos a las etiquetas 'tags' que describe a nuestra imagen"
   ],
   "cell_type": "markdown",
   "metadata": {}
  },
  {
   "cell_type": "code",
   "execution_count": 12,
   "metadata": {},
   "outputs": [
    {
     "output_type": "execute_result",
     "data": {
      "text/plain": [
       "['outdoor', 'building', 'sky', 'tower', 'tall', 'roof']"
      ]
     },
     "metadata": {},
     "execution_count": 12
    }
   ],
   "source": [
    "describe.tags"
   ]
  },
  {
   "source": [
    "## Obtenemos la descripción de la imagen con un porcentaje de fiabilidad"
   ],
   "cell_type": "markdown",
   "metadata": {}
  },
  {
   "cell_type": "code",
   "execution_count": 13,
   "metadata": {},
   "outputs": [
    {
     "output_type": "stream",
     "name": "stdout",
     "text": [
      "a large clock tower with Big Ben in the background 0.4874017834663391\n"
     ]
    }
   ],
   "source": [
    "for caption in describe.captions:\n",
    "    print(caption.text, caption.confidence)"
   ]
  },
  {
   "source": [
    "## Detectamos los objetos en la imagen"
   ],
   "cell_type": "markdown",
   "metadata": {}
  },
  {
   "cell_type": "code",
   "execution_count": 14,
   "metadata": {},
   "outputs": [],
   "source": [
    "detect = client.detect_objects(big_ben)"
   ]
  },
  {
   "source": [
    "## Dibujamos un rectangulo en el objeto detectado"
   ],
   "cell_type": "markdown",
   "metadata": {}
  },
  {
   "cell_type": "code",
   "execution_count": 15,
   "metadata": {},
   "outputs": [
    {
     "output_type": "stream",
     "name": "stdout",
     "text": [
      "Wall clock {'additional_properties': {}, 'x': 917, 'y': 1042, 'w': 124, 'h': 161}\n"
     ]
    }
   ],
   "source": [
    "for obj in detect.objects:\n",
    "    print(obj.object_property, obj.rectangle)"
   ]
  },
  {
   "source": [
    "## Buscamos si hay alguna caracteristica propia en la imagen (Reconozca que es el bigben)"
   ],
   "cell_type": "markdown",
   "metadata": {}
  },
  {
   "cell_type": "code",
   "execution_count": 16,
   "metadata": {},
   "outputs": [],
   "source": [
    "landmarks = client.analyze_image_by_domain ('landmarks', big_ben)"
   ]
  },
  {
   "source": [
    "## Revisamos que identifico al Big Ben con un 93% "
   ],
   "cell_type": "markdown",
   "metadata": {}
  },
  {
   "cell_type": "code",
   "execution_count": 17,
   "metadata": {},
   "outputs": [
    {
     "output_type": "execute_result",
     "data": {
      "text/plain": [
       "{'landmarks': [{'name': 'Big Ben', 'confidence': 0.93199622631073}]}"
      ]
     },
     "metadata": {},
     "execution_count": 17
    }
   ],
   "source": [
    "landmarks.result"
   ]
  },
  {
   "source": [
    "## Queremos identificar en que categoría se encuentra"
   ],
   "cell_type": "markdown",
   "metadata": {}
  },
  {
   "cell_type": "code",
   "execution_count": 18,
   "metadata": {},
   "outputs": [],
   "source": [
    "analyze = client.analyze_image(big_ben)"
   ]
  },
  {
   "source": [
    "## Buscamos la categoria y el puntaje que le corresponde. Edifico al 61%"
   ],
   "cell_type": "markdown",
   "metadata": {}
  },
  {
   "cell_type": "code",
   "execution_count": 19,
   "metadata": {},
   "outputs": [
    {
     "output_type": "stream",
     "name": "stdout",
     "text": [
      "{'additional_properties': {}, 'name': 'building_', 'score': 0.61328125, 'detail': None}\n"
     ]
    }
   ],
   "source": [
    "for category in analyze.categories:\n",
    "    print(category)"
   ]
  }
 ]
}